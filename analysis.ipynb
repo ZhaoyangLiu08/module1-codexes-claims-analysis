{
  "nbformat": 4,
  "nbformat_minor": 0,
  "metadata": {
    "colab": {
      "provenance": [],
      "toc_visible": true
    },
    "kernelspec": {
      "name": "python3",
      "display_name": "Python 3"
    },
    "language_info": {
      "name": "python"
    }
  },
  "cells": [
    {
      "cell_type": "markdown",
      "source": [
        "#### 2. Loading the Data"
      ],
      "metadata": {
        "id": "qAH1PniHNG3N"
      }
    },
    {
      "cell_type": "code",
      "execution_count": 3,
      "metadata": {
        "id": "ln1yuY5uAAMA"
      },
      "outputs": [],
      "source": [
        "import pandas as pd"
      ]
    },
    {
      "cell_type": "code",
      "source": [
        "df = pd.read_csv('https://data.cms.gov/sites/default/files/2023-04/67157de9-d962-4af0-bf0e-3578b3afec58/inpatient.csv', sep = '|', low_memory=False)\n",
        "\n",
        "df\n",
        "\n",
        "df.columns\n",
        "for col in df.columns:\n",
        " print (col)"
      ],
      "metadata": {
        "colab": {
          "base_uri": "https://localhost:8080/"
        },
        "collapsed": true,
        "id": "BDigy75EEBuJ",
        "outputId": "10f3b8ee-8d11-44d1-e870-0850f2563480"
      },
      "execution_count": 15,
      "outputs": [
        {
          "output_type": "stream",
          "name": "stdout",
          "text": [
            "BENE_ID\n",
            "CLM_ID\n",
            "NCH_NEAR_LINE_REC_IDENT_CD\n",
            "NCH_CLM_TYPE_CD\n",
            "CLM_FROM_DT\n",
            "CLM_THRU_DT\n",
            "NCH_WKLY_PROC_DT\n",
            "FI_CLM_PROC_DT\n",
            "CLAIM_QUERY_CODE\n",
            "PRVDR_NUM\n",
            "CLM_FAC_TYPE_CD\n",
            "CLM_SRVC_CLSFCTN_TYPE_CD\n",
            "CLM_FREQ_CD\n",
            "FI_NUM\n",
            "CLM_MDCR_NON_PMT_RSN_CD\n",
            "CLM_PMT_AMT\n",
            "NCH_PRMRY_PYR_CLM_PD_AMT\n",
            "NCH_PRMRY_PYR_CD\n",
            "FI_CLM_ACTN_CD\n",
            "PRVDR_STATE_CD\n",
            "ORG_NPI_NUM\n",
            "AT_PHYSN_UPIN\n",
            "AT_PHYSN_NPI\n",
            "OP_PHYSN_UPIN\n",
            "OP_PHYSN_NPI\n",
            "OT_PHYSN_UPIN\n",
            "OT_PHYSN_NPI\n",
            "CLM_MCO_PD_SW\n",
            "PTNT_DSCHRG_STUS_CD\n",
            "CLM_PPS_IND_CD\n",
            "CLM_TOT_CHRG_AMT\n",
            "CLM_ADMSN_DT\n",
            "CLM_IP_ADMSN_TYPE_CD\n",
            "CLM_SRC_IP_ADMSN_CD\n",
            "NCH_PTNT_STATUS_IND_CD\n",
            "CLM_PASS_THRU_PER_DIEM_AMT\n",
            "NCH_BENE_IP_DDCTBL_AMT\n",
            "NCH_BENE_PTA_COINSRNC_LBLTY_AM\n",
            "NCH_BENE_BLOOD_DDCTBL_LBLTY_AM\n",
            "NCH_PROFNL_CMPNT_CHRG_AMT\n",
            "NCH_IP_NCVRD_CHRG_AMT\n",
            "NCH_IP_TOT_DDCTN_AMT\n",
            "CLM_TOT_PPS_CPTL_AMT\n",
            "CLM_PPS_CPTL_FSP_AMT\n",
            "CLM_PPS_CPTL_OUTLIER_AMT\n",
            "CLM_PPS_CPTL_DSPRPRTNT_SHR_AMT\n",
            "CLM_PPS_CPTL_IME_AMT\n",
            "CLM_PPS_CPTL_EXCPTN_AMT\n",
            "CLM_PPS_OLD_CPTL_HLD_HRMLS_AMT\n",
            "CLM_PPS_CPTL_DRG_WT_NUM\n",
            "CLM_UTLZTN_DAY_CNT\n",
            "BENE_TOT_COINSRNC_DAYS_CNT\n",
            "BENE_LRD_USED_CNT\n",
            "CLM_NON_UTLZTN_DAYS_CNT\n",
            "NCH_BLOOD_PNTS_FRNSHD_QTY\n",
            "NCH_VRFD_NCVRD_STAY_FROM_DT\n",
            "NCH_VRFD_NCVRD_STAY_THRU_DT\n",
            "NCH_ACTV_OR_CVRD_LVL_CARE_THRU\n",
            "NCH_BENE_MDCR_BNFTS_EXHTD_DT_I\n",
            "NCH_BENE_DSCHRG_DT\n",
            "CLM_DRG_CD\n",
            "CLM_DRG_OUTLIER_STAY_CD\n",
            "NCH_DRG_OUTLIER_APRVD_PMT_AMT\n",
            "ADMTG_DGNS_CD\n",
            "PRNCPAL_DGNS_CD\n",
            "ICD_DGNS_CD1\n",
            "CLM_POA_IND_SW1\n",
            "ICD_DGNS_CD2\n",
            "CLM_POA_IND_SW2\n",
            "ICD_DGNS_CD3\n",
            "CLM_POA_IND_SW3\n",
            "ICD_DGNS_CD4\n",
            "CLM_POA_IND_SW4\n",
            "ICD_DGNS_CD5\n",
            "CLM_POA_IND_SW5\n",
            "ICD_DGNS_CD6\n",
            "CLM_POA_IND_SW6\n",
            "ICD_DGNS_CD7\n",
            "CLM_POA_IND_SW7\n",
            "ICD_DGNS_CD8\n",
            "CLM_POA_IND_SW8\n",
            "ICD_DGNS_CD9\n",
            "CLM_POA_IND_SW9\n",
            "ICD_DGNS_CD10\n",
            "CLM_POA_IND_SW10\n",
            "ICD_DGNS_CD11\n",
            "CLM_POA_IND_SW11\n",
            "ICD_DGNS_CD12\n",
            "CLM_POA_IND_SW12\n",
            "ICD_DGNS_CD13\n",
            "CLM_POA_IND_SW13\n",
            "ICD_DGNS_CD14\n",
            "CLM_POA_IND_SW14\n",
            "ICD_DGNS_CD15\n",
            "CLM_POA_IND_SW15\n",
            "ICD_DGNS_CD16\n",
            "CLM_POA_IND_SW16\n",
            "ICD_DGNS_CD17\n",
            "CLM_POA_IND_SW17\n",
            "ICD_DGNS_CD18\n",
            "CLM_POA_IND_SW18\n",
            "ICD_DGNS_CD19\n",
            "CLM_POA_IND_SW19\n",
            "ICD_DGNS_CD20\n",
            "CLM_POA_IND_SW20\n",
            "ICD_DGNS_CD21\n",
            "CLM_POA_IND_SW21\n",
            "ICD_DGNS_CD22\n",
            "CLM_POA_IND_SW22\n",
            "ICD_DGNS_CD23\n",
            "CLM_POA_IND_SW23\n",
            "ICD_DGNS_CD24\n",
            "CLM_POA_IND_SW24\n",
            "ICD_DGNS_CD25\n",
            "CLM_POA_IND_SW25\n",
            "FST_DGNS_E_CD\n",
            "ICD_DGNS_E_CD1\n",
            "CLM_E_POA_IND_SW1\n",
            "ICD_DGNS_E_CD2\n",
            "CLM_E_POA_IND_SW2\n",
            "ICD_DGNS_E_CD3\n",
            "CLM_E_POA_IND_SW3\n",
            "ICD_DGNS_E_CD4\n",
            "CLM_E_POA_IND_SW4\n",
            "ICD_DGNS_E_CD5\n",
            "CLM_E_POA_IND_SW5\n",
            "ICD_DGNS_E_CD6\n",
            "CLM_E_POA_IND_SW6\n",
            "ICD_DGNS_E_CD7\n",
            "CLM_E_POA_IND_SW7\n",
            "ICD_DGNS_E_CD8\n",
            "CLM_E_POA_IND_SW8\n",
            "ICD_DGNS_E_CD9\n",
            "CLM_E_POA_IND_SW9\n",
            "ICD_DGNS_E_CD10\n",
            "CLM_E_POA_IND_SW10\n",
            "ICD_DGNS_E_CD11\n",
            "CLM_E_POA_IND_SW11\n",
            "ICD_DGNS_E_CD12\n",
            "CLM_E_POA_IND_SW12\n",
            "ICD_PRCDR_CD1\n",
            "PRCDR_DT1\n",
            "ICD_PRCDR_CD2\n",
            "PRCDR_DT2\n",
            "ICD_PRCDR_CD3\n",
            "PRCDR_DT3\n",
            "ICD_PRCDR_CD4\n",
            "PRCDR_DT4\n",
            "ICD_PRCDR_CD5\n",
            "PRCDR_DT5\n",
            "ICD_PRCDR_CD6\n",
            "PRCDR_DT6\n",
            "ICD_PRCDR_CD7\n",
            "PRCDR_DT7\n",
            "ICD_PRCDR_CD8\n",
            "PRCDR_DT8\n",
            "ICD_PRCDR_CD9\n",
            "PRCDR_DT9\n",
            "ICD_PRCDR_CD10\n",
            "PRCDR_DT10\n",
            "ICD_PRCDR_CD11\n",
            "PRCDR_DT11\n",
            "ICD_PRCDR_CD12\n",
            "PRCDR_DT12\n",
            "ICD_PRCDR_CD13\n",
            "PRCDR_DT13\n",
            "ICD_PRCDR_CD14\n",
            "PRCDR_DT14\n",
            "ICD_PRCDR_CD15\n",
            "PRCDR_DT15\n",
            "ICD_PRCDR_CD16\n",
            "PRCDR_DT16\n",
            "ICD_PRCDR_CD17\n",
            "PRCDR_DT17\n",
            "ICD_PRCDR_CD18\n",
            "PRCDR_DT18\n",
            "ICD_PRCDR_CD19\n",
            "PRCDR_DT19\n",
            "ICD_PRCDR_CD20\n",
            "PRCDR_DT20\n",
            "ICD_PRCDR_CD21\n",
            "PRCDR_DT21\n",
            "ICD_PRCDR_CD22\n",
            "PRCDR_DT22\n",
            "ICD_PRCDR_CD23\n",
            "PRCDR_DT23\n",
            "ICD_PRCDR_CD24\n",
            "PRCDR_DT24\n",
            "ICD_PRCDR_CD25\n",
            "PRCDR_DT25\n",
            "IME_OP_CLM_VAL_AMT\n",
            "DSH_OP_CLM_VAL_AMT\n",
            "CLM_UNCOMPD_CARE_PMT_AMT\n",
            "CLM_LINE_NUM\n",
            "REV_CNTR\n",
            "HCPCS_CD\n",
            "REV_CNTR_DDCTBL_COINSRNC_CD\n"
          ]
        }
      ]
    },
    {
      "cell_type": "code",
      "source": [
        "icd_columns = [col for col in df.columns if 'ICD' in col]\n",
        "print( icd_columns)"
      ],
      "metadata": {
        "colab": {
          "base_uri": "https://localhost:8080/"
        },
        "id": "WqT9kfiHMj-e",
        "outputId": "d009510a-a2ec-4930-cc5b-596ccac655d5"
      },
      "execution_count": 25,
      "outputs": [
        {
          "output_type": "stream",
          "name": "stdout",
          "text": [
            "['ICD_DGNS_CD1', 'ICD_DGNS_CD2', 'ICD_DGNS_CD3', 'ICD_DGNS_CD4', 'ICD_DGNS_CD5', 'ICD_DGNS_CD6', 'ICD_DGNS_CD7', 'ICD_DGNS_CD8', 'ICD_DGNS_CD9', 'ICD_DGNS_CD10', 'ICD_DGNS_CD11', 'ICD_DGNS_CD12', 'ICD_DGNS_CD13', 'ICD_DGNS_CD14', 'ICD_DGNS_CD15', 'ICD_DGNS_CD16', 'ICD_DGNS_CD17', 'ICD_DGNS_CD18', 'ICD_DGNS_CD19', 'ICD_DGNS_CD20', 'ICD_DGNS_CD21', 'ICD_DGNS_CD22', 'ICD_DGNS_CD23', 'ICD_DGNS_CD24', 'ICD_DGNS_CD25', 'ICD_DGNS_E_CD1', 'ICD_DGNS_E_CD2', 'ICD_DGNS_E_CD3', 'ICD_DGNS_E_CD4', 'ICD_DGNS_E_CD5', 'ICD_DGNS_E_CD6', 'ICD_DGNS_E_CD7', 'ICD_DGNS_E_CD8', 'ICD_DGNS_E_CD9', 'ICD_DGNS_E_CD10', 'ICD_DGNS_E_CD11', 'ICD_DGNS_E_CD12', 'ICD_PRCDR_CD1', 'ICD_PRCDR_CD2', 'ICD_PRCDR_CD3', 'ICD_PRCDR_CD4', 'ICD_PRCDR_CD5', 'ICD_PRCDR_CD6', 'ICD_PRCDR_CD7', 'ICD_PRCDR_CD8', 'ICD_PRCDR_CD9', 'ICD_PRCDR_CD10', 'ICD_PRCDR_CD11', 'ICD_PRCDR_CD12', 'ICD_PRCDR_CD13', 'ICD_PRCDR_CD14', 'ICD_PRCDR_CD15', 'ICD_PRCDR_CD16', 'ICD_PRCDR_CD17', 'ICD_PRCDR_CD18', 'ICD_PRCDR_CD19', 'ICD_PRCDR_CD20', 'ICD_PRCDR_CD21', 'ICD_PRCDR_CD22', 'ICD_PRCDR_CD23', 'ICD_PRCDR_CD24', 'ICD_PRCDR_CD25']\n"
          ]
        }
      ]
    },
    {
      "cell_type": "code",
      "source": [
        "drg_columns = [col for col in df.columns if 'DRG' in col]\n",
        "print(drg_columns)"
      ],
      "metadata": {
        "colab": {
          "base_uri": "https://localhost:8080/"
        },
        "id": "5jIj6TL3MzhS",
        "outputId": "d4f71de7-9e90-40c9-8024-11cddca0d374"
      },
      "execution_count": 26,
      "outputs": [
        {
          "output_type": "stream",
          "name": "stdout",
          "text": [
            "['CLM_PPS_CPTL_DRG_WT_NUM', 'CLM_DRG_CD', 'CLM_DRG_OUTLIER_STAY_CD', 'NCH_DRG_OUTLIER_APRVD_PMT_AMT']\n"
          ]
        }
      ]
    },
    {
      "cell_type": "code",
      "source": [
        "hcpcs_columns = [col for col in df.columns if 'HCPCS' in col]\n",
        "print(hcpcs_columns)"
      ],
      "metadata": {
        "colab": {
          "base_uri": "https://localhost:8080/"
        },
        "id": "Y3yE_zZ2M7Bn",
        "outputId": "f324ab13-9a27-4aef-8392-3010a306c5c7"
      },
      "execution_count": 27,
      "outputs": [
        {
          "output_type": "stream",
          "name": "stdout",
          "text": [
            "['HCPCS_CD']\n"
          ]
        }
      ]
    },
    {
      "cell_type": "markdown",
      "source": [
        "#### 3. Analyzing Medical Codex Data:"
      ],
      "metadata": {
        "id": "gV3bGZ3qNZut"
      }
    },
    {
      "cell_type": "code",
      "source": [
        "clm_columns = [col for col in df.columns if 'CLM' in col]\n",
        "print( clm_columns)"
      ],
      "metadata": {
        "colab": {
          "base_uri": "https://localhost:8080/"
        },
        "id": "MQepVwS5NTu7",
        "outputId": "209a02aa-b47d-4ba7-9182-c77d68b80663"
      },
      "execution_count": 28,
      "outputs": [
        {
          "output_type": "stream",
          "name": "stdout",
          "text": [
            "['CLM_ID', 'NCH_CLM_TYPE_CD', 'CLM_FROM_DT', 'CLM_THRU_DT', 'FI_CLM_PROC_DT', 'CLM_FAC_TYPE_CD', 'CLM_SRVC_CLSFCTN_TYPE_CD', 'CLM_FREQ_CD', 'CLM_MDCR_NON_PMT_RSN_CD', 'CLM_PMT_AMT', 'NCH_PRMRY_PYR_CLM_PD_AMT', 'FI_CLM_ACTN_CD', 'CLM_MCO_PD_SW', 'CLM_PPS_IND_CD', 'CLM_TOT_CHRG_AMT', 'CLM_ADMSN_DT', 'CLM_IP_ADMSN_TYPE_CD', 'CLM_SRC_IP_ADMSN_CD', 'CLM_PASS_THRU_PER_DIEM_AMT', 'CLM_TOT_PPS_CPTL_AMT', 'CLM_PPS_CPTL_FSP_AMT', 'CLM_PPS_CPTL_OUTLIER_AMT', 'CLM_PPS_CPTL_DSPRPRTNT_SHR_AMT', 'CLM_PPS_CPTL_IME_AMT', 'CLM_PPS_CPTL_EXCPTN_AMT', 'CLM_PPS_OLD_CPTL_HLD_HRMLS_AMT', 'CLM_PPS_CPTL_DRG_WT_NUM', 'CLM_UTLZTN_DAY_CNT', 'CLM_NON_UTLZTN_DAYS_CNT', 'CLM_DRG_CD', 'CLM_DRG_OUTLIER_STAY_CD', 'CLM_POA_IND_SW1', 'CLM_POA_IND_SW2', 'CLM_POA_IND_SW3', 'CLM_POA_IND_SW4', 'CLM_POA_IND_SW5', 'CLM_POA_IND_SW6', 'CLM_POA_IND_SW7', 'CLM_POA_IND_SW8', 'CLM_POA_IND_SW9', 'CLM_POA_IND_SW10', 'CLM_POA_IND_SW11', 'CLM_POA_IND_SW12', 'CLM_POA_IND_SW13', 'CLM_POA_IND_SW14', 'CLM_POA_IND_SW15', 'CLM_POA_IND_SW16', 'CLM_POA_IND_SW17', 'CLM_POA_IND_SW18', 'CLM_POA_IND_SW19', 'CLM_POA_IND_SW20', 'CLM_POA_IND_SW21', 'CLM_POA_IND_SW22', 'CLM_POA_IND_SW23', 'CLM_POA_IND_SW24', 'CLM_POA_IND_SW25', 'CLM_E_POA_IND_SW1', 'CLM_E_POA_IND_SW2', 'CLM_E_POA_IND_SW3', 'CLM_E_POA_IND_SW4', 'CLM_E_POA_IND_SW5', 'CLM_E_POA_IND_SW6', 'CLM_E_POA_IND_SW7', 'CLM_E_POA_IND_SW8', 'CLM_E_POA_IND_SW9', 'CLM_E_POA_IND_SW10', 'CLM_E_POA_IND_SW11', 'CLM_E_POA_IND_SW12', 'IME_OP_CLM_VAL_AMT', 'DSH_OP_CLM_VAL_AMT', 'CLM_UNCOMPD_CARE_PMT_AMT', 'CLM_LINE_NUM']\n"
          ]
        }
      ]
    },
    {
      "cell_type": "code",
      "source": [
        "demo_columns = [col for col in df.columns if 'DEMO' in col]\n",
        "print( demo_columns)"
      ],
      "metadata": {
        "colab": {
          "base_uri": "https://localhost:8080/"
        },
        "id": "7Y0ZT3tOPcVM",
        "outputId": "38bac2c7-3ef1-435c-b4ac-3afba76dee7b"
      },
      "execution_count": 29,
      "outputs": [
        {
          "output_type": "stream",
          "name": "stdout",
          "text": [
            "[]\n"
          ]
        }
      ]
    },
    {
      "cell_type": "code",
      "source": [
        "line_columns = [col for col in df.columns if 'LINE' in col]\n",
        "print( line_columns)"
      ],
      "metadata": {
        "colab": {
          "base_uri": "https://localhost:8080/"
        },
        "id": "UycFMq0ZPjFN",
        "outputId": "b066815a-dba7-4c94-8cb6-6b536c773477"
      },
      "execution_count": 30,
      "outputs": [
        {
          "output_type": "stream",
          "name": "stdout",
          "text": [
            "['NCH_NEAR_LINE_REC_IDENT_CD', 'CLM_LINE_NUM']\n"
          ]
        }
      ]
    },
    {
      "cell_type": "code",
      "source": [
        "nch_columns = [col for col in df.columns if 'NCH' in col]\n",
        "print( nch_columns)"
      ],
      "metadata": {
        "colab": {
          "base_uri": "https://localhost:8080/"
        },
        "id": "eu5RIbm3PpmE",
        "outputId": "8eda8896-ae63-4cd5-f3b9-a987af9a18ac"
      },
      "execution_count": 31,
      "outputs": [
        {
          "output_type": "stream",
          "name": "stdout",
          "text": [
            "['NCH_NEAR_LINE_REC_IDENT_CD', 'NCH_CLM_TYPE_CD', 'NCH_WKLY_PROC_DT', 'NCH_PRMRY_PYR_CLM_PD_AMT', 'NCH_PRMRY_PYR_CD', 'NCH_PTNT_STATUS_IND_CD', 'NCH_BENE_IP_DDCTBL_AMT', 'NCH_BENE_PTA_COINSRNC_LBLTY_AM', 'NCH_BENE_BLOOD_DDCTBL_LBLTY_AM', 'NCH_PROFNL_CMPNT_CHRG_AMT', 'NCH_IP_NCVRD_CHRG_AMT', 'NCH_IP_TOT_DDCTN_AMT', 'NCH_BLOOD_PNTS_FRNSHD_QTY', 'NCH_VRFD_NCVRD_STAY_FROM_DT', 'NCH_VRFD_NCVRD_STAY_THRU_DT', 'NCH_ACTV_OR_CVRD_LVL_CARE_THRU', 'NCH_BENE_MDCR_BNFTS_EXHTD_DT_I', 'NCH_BENE_DSCHRG_DT', 'NCH_DRG_OUTLIER_APRVD_PMT_AMT']\n"
          ]
        }
      ]
    },
    {
      "cell_type": "code",
      "source": [
        "prcdr_columns = [col for col in df.columns if 'PRCGR' in col]\n",
        "print( prcdr_columns)"
      ],
      "metadata": {
        "colab": {
          "base_uri": "https://localhost:8080/"
        },
        "id": "IWKnO2ChPxYb",
        "outputId": "95028402-9dfe-41c0-c87d-b63792a01e19"
      },
      "execution_count": 32,
      "outputs": [
        {
          "output_type": "stream",
          "name": "stdout",
          "text": [
            "[]\n"
          ]
        }
      ]
    },
    {
      "cell_type": "code",
      "source": [
        "icd_dgns_cd1 = df['ICD_DGNS_CD1']\n",
        "icd_frequency = icd_dgns_cd1.value_counts()\n",
        "clm_drg_cd = df['CLM_DRG_CD']\n",
        "clm_drg_frequency = clm_drg_cd.value_counts()\n",
        "clm_pmt_amt = df['CLM_PMT_AMT']\n",
        "clm_pmt_amt_frequency = clm_pmt_amt.value_counts()\n",
        "nch_prmry_pyr_clm_pd_amt = df['NCH_PRMRY_PYR_CLM_PD_AMT']\n",
        "nch_clm_amt_frequency = nch_prmry_pyr_clm_pd_amt.value_counts()\n",
        "print (\n",
        "    'icd.frequency:/',icd_frequency,\n",
        "    '\\nclm.drg.frequency:/',clm_drg_frequency,\n",
        "    '\\nclm.pmt.amt.frequency:/',clm_pmt_amt_frequency,\n",
        "    '\\nnch.clm.amt.frequency:/',nch_clm_amt_frequency,\n",
        "    )"
      ],
      "metadata": {
        "colab": {
          "base_uri": "https://localhost:8080/"
        },
        "collapsed": true,
        "id": "sVFr21hBQpCm",
        "outputId": "faeb6e02-10f5-49be-b20c-a3b41d3db059"
      },
      "execution_count": 42,
      "outputs": [
        {
          "output_type": "stream",
          "name": "stdout",
          "text": [
            "icd.frequency:/ ICD_DGNS_CD1\n",
            "Z733      13031\n",
            "Z608       8227\n",
            "T7432X     3727\n",
            "Z604       3537\n",
            "Z940       2858\n",
            "          ...  \n",
            "T8611         1\n",
            "E1141         1\n",
            "E11610        1\n",
            "I071          1\n",
            "M069          1\n",
            "Name: count, Length: 231, dtype: int64 \n",
            "clm.drg.frequency:/ CLM_DRG_CD\n",
            "951.0    28831\n",
            "950.0     1456\n",
            "949.0     1332\n",
            "922.0     1110\n",
            "923.0     1015\n",
            "         ...  \n",
            "814.0        1\n",
            "918.0        1\n",
            "870.0        1\n",
            "812.0        1\n",
            "656.0        1\n",
            "Name: count, Length: 167, dtype: int64 \n",
            "clm.pmt.amt.frequency:/ CLM_PMT_AMT\n",
            "950.31      529\n",
            "166.97      525\n",
            "1140.09     524\n",
            "1358.56     473\n",
            "108.86      463\n",
            "           ... \n",
            "811.96        1\n",
            "820.78        1\n",
            "507.90        1\n",
            "5527.34       1\n",
            "14240.89      1\n",
            "Name: count, Length: 10341, dtype: int64 \n",
            "nch.clm.amt.frequency:/ NCH_PRMRY_PYR_CLM_PD_AMT\n",
            "0.00        48092\n",
            "131.97        157\n",
            "130.00        117\n",
            "1323.56        92\n",
            "1180.28        85\n",
            "            ...  \n",
            "32231.96        1\n",
            "74.55           1\n",
            "8931.25         1\n",
            "27511.34        1\n",
            "13309.31        1\n",
            "Name: count, Length: 2263, dtype: int64\n"
          ]
        }
      ]
    },
    {
      "cell_type": "code",
      "source": [
        "missing_icd = icd_dgns_cd1.isnull().sum()\n",
        "missing_clm_drg = clm_drg_cd.isnull().sum()\n",
        "missing_clm_pmt_amt = clm_pmt_amt.isnull().sum()\n",
        "missing_nch_clm_amt = nch_prmry_pyr_clm_pd_amt.isnull().sum()\n",
        "print (\n",
        "    'icd.missing:/',missing_icd,\n",
        "    '\\nclm.drg.missing:/',missing_clm_drg,\n",
        "    '\\nclm.pmt.amt.missing:/',missing_clm_pmt_amt,\n",
        "    '\\nnch.clm.amt.missing:/',missing_nch_clm_amt,\n",
        "    )"
      ],
      "metadata": {
        "colab": {
          "base_uri": "https://localhost:8080/"
        },
        "id": "wo0moybHl5gT",
        "outputId": "eec323d7-65b2-43f4-aac3-dd7444492b3e"
      },
      "execution_count": 45,
      "outputs": [
        {
          "output_type": "stream",
          "name": "stdout",
          "text": [
            "icd.missing:/ 0 \n",
            "clm.drg.missing:/ 3262 \n",
            "clm.pmt.amt.missing:/ 0 \n",
            "nch.clm.amt.missing:/ 0\n"
          ]
        }
      ]
    },
    {
      "cell_type": "code",
      "source": [
        "df['CLM_DRG_CD'].fillna('-1', inplace=True)"
      ],
      "metadata": {
        "id": "qkcj41slqg8q"
      },
      "execution_count": 47,
      "outputs": []
    },
    {
      "cell_type": "markdown",
      "source": [
        "#### 4. Additional Analysis:"
      ],
      "metadata": {
        "id": "kTnpsugavU0E"
      }
    },
    {
      "cell_type": "code",
      "source": [
        "common_icd = df['ICD_DGNS_CD1'].value_counts().head(10)\n",
        "print ('common.icd',common_icd)\n",
        "Z733_icd = df[df['ICD_DGNS_CD1'].str.contains('Z733',na=False)]\n",
        "state_counts = Z733_icd['PRVDR_STATE_CD'].value_counts().head(10)\n",
        "print('icd = Z733, top.10.state.counts',state_counts)"
      ],
      "metadata": {
        "colab": {
          "base_uri": "https://localhost:8080/"
        },
        "id": "4bDQPKHOvYNg",
        "outputId": "415caab2-3139-4a85-b31f-4df71d926d0b"
      },
      "execution_count": 56,
      "outputs": [
        {
          "output_type": "stream",
          "name": "stdout",
          "text": [
            "common.icd ICD_DGNS_CD1\n",
            "Z733      13031\n",
            "Z608       8227\n",
            "T7432X     3727\n",
            "Z604       3537\n",
            "Z940       2858\n",
            "Z951       2500\n",
            "C3490      1365\n",
            "Z95818     1131\n",
            "R0902       970\n",
            "I214        915\n",
            "Name: count, dtype: int64\n",
            "icd = Z733, top.10.state.counts PRVDR_STATE_CD\n",
            "10    1532\n",
            "33    1113\n",
            "5      913\n",
            "49     683\n",
            "3      647\n",
            "15     547\n",
            "34     509\n",
            "45     494\n",
            "37     453\n",
            "21     433\n",
            "Name: count, dtype: int64\n"
          ]
        }
      ]
    }
  ]
}